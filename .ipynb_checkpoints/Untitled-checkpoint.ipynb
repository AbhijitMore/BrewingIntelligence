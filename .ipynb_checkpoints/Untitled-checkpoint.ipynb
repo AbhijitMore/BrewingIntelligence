{
 "cells": [
  {
   "cell_type": "code",
   "execution_count": 1,
   "id": "9a401f57-c592-4215-967c-d45381c4a92b",
   "metadata": {},
   "outputs": [
    {
     "name": "stdout",
     "output_type": "stream",
     "text": [
      "Hello, Abhijit!\n"
     ]
    }
   ],
   "source": [
    "def outer_function(msg):\n",
    "    def inner_function():\n",
    "        print(msg)\n",
    "    return inner_function\n",
    "\n",
    "greet = outer_function(\"Hello, Abhijit!\")\n",
    "greet()  # Output: Hello, Abhijit!"
   ]
  },
  {
   "cell_type": "code",
   "execution_count": 5,
   "id": "bc94013e-dca8-46e5-8715-24bbfbe18ca3",
   "metadata": {},
   "outputs": [
    {
     "name": "stdout",
     "output_type": "stream",
     "text": [
      "<cell at 0x10798c310: str object at 0x107d278b0>\n",
      "Hello, Abhijit!\n"
     ]
    }
   ],
   "source": [
    "print(greet.__closure__)  # Contains cell objects with enclosed variables\n",
    "print(greet.__closure__[0].cell_contents)  # Output: Hello, Abhijit!"
   ]
  },
  {
   "cell_type": "code",
   "execution_count": null,
   "id": "71ce1d39-ec42-4443-975a-a00f06dba623",
   "metadata": {},
   "outputs": [],
   "source": []
  }
 ],
 "metadata": {
  "kernelspec": {
   "display_name": "Python 3 (ipykernel)",
   "language": "python",
   "name": "python3"
  },
  "language_info": {
   "codemirror_mode": {
    "name": "ipython",
    "version": 3
   },
   "file_extension": ".py",
   "mimetype": "text/x-python",
   "name": "python",
   "nbconvert_exporter": "python",
   "pygments_lexer": "ipython3",
   "version": "3.12.2"
  }
 },
 "nbformat": 4,
 "nbformat_minor": 5
}
